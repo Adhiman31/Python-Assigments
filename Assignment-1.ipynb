{
 "cells": [
  {
   "cell_type": "raw",
   "id": "f8dd730b",
   "metadata": {},
   "source": [
    "Q1 . In the below elements which of them are values or an expression? eg:- values can be\n",
    "integer or string and expressions will be mathematical operators.\n",
    "*\n",
    "'hello'\n",
    "-87.8\n",
    "-\n",
    "/\n",
    "+\n",
    "6"
   ]
  },
  {
   "cell_type": "raw",
   "id": "dbf7783e",
   "metadata": {},
   "source": [
    "Ans -    *            =    expression\n",
    "         \n",
    "         'hello'      =    value\n",
    "         \n",
    "         -87.8        =    value\n",
    "         \n",
    "          -           =    expression\n",
    "          \n",
    "          /           =    expression\n",
    "          \n",
    "          +           =    expression \n",
    "          \n",
    "          6           =    value\n",
    "         \n",
    "         "
   ]
  },
  {
   "cell_type": "raw",
   "id": "ba8a124e",
   "metadata": {},
   "source": [
    "Q2. What is the difference between string and variable?"
   ]
  },
  {
   "cell_type": "raw",
   "id": "ef65a05d",
   "metadata": {},
   "source": [
    "Ans -    String - String is data type in python is which we can assign value in string form.\n",
    "         e.g -    S = \"Anil\" or S = 'Anil'\n",
    "         \n",
    "         Varable - From the above example we can see that we have assigned the String \"Anil\" or 'anil' to S.\n",
    "         So here 'S' is the variable where store a certain value. It nay be String , integer , float type values. "
   ]
  },
  {
   "cell_type": "raw",
   "id": "42a9b4fd",
   "metadata": {},
   "source": [
    "Q3. Describe three different data types."
   ]
  },
  {
   "cell_type": "raw",
   "id": "8637b32e",
   "metadata": {},
   "source": [
    "Ans - Below are the 3 data types :\n",
    "\n",
    " a) String - String is data type in python is which we can assign value in string form. You always have to put String in single              or double inverted comma's.\n",
    "         e.g -    S = \"Anil\" or S = 'Anil'\n",
    "         \n",
    " b) Integer - An integer data type in python is which has only integer values like 1 , 3, 4 ,5 ,7 etc.\n",
    "            e.g  a = 123 , b = 2 , c = 45756587\n",
    "            \n",
    " c) Float - Floating point data type represents value in decimal form.\n",
    "             e.g - f = 0.5 , f = 45.67  , f= 0.474875\n",
    "             "
   ]
  },
  {
   "cell_type": "raw",
   "id": "2cee16d5",
   "metadata": {},
   "source": [
    "Q4. What is an expression made up of? What do all expressions do?"
   ]
  },
  {
   "cell_type": "raw",
   "id": "0a71c001",
   "metadata": {},
   "source": [
    "Ans-  Expressions are bascially reperesentation of a value .\n",
    "      For e.g -  a = 23 \n",
    "      here  expression  is made up of '='(operator) which represents that value '23' is assigned to variable 'a' ."
   ]
  },
  {
   "cell_type": "raw",
   "id": "7405f2d0",
   "metadata": {},
   "source": [
    "Q5. This assignment statements, like spam = 10. What is the difference between an\n",
    "    expression and a statement?"
   ]
  },
  {
   "cell_type": "raw",
   "id": "555fb329",
   "metadata": {},
   "source": [
    "Ans -  In the above example spam = 10\n",
    "        It show us an expression because here we are we are evaluating the value containing variable , opeartor and value.\n",
    "        However when an interpeter will read and executes it will treated as a statement , because it executes what the                 statement says. \n",
    "        \n",
    "        \n",
    "       "
   ]
  },
  {
   "cell_type": "raw",
   "id": "e8a64dc5",
   "metadata": {},
   "source": [
    "Q6. After running the following code, what does the variable bacon contain?\n",
    "\n",
    "bacon = 22\n",
    "bacon + 1"
   ]
  },
  {
   "cell_type": "code",
   "execution_count": 1,
   "id": "516bfafe",
   "metadata": {},
   "outputs": [],
   "source": [
    "bacon = 22"
   ]
  },
  {
   "cell_type": "code",
   "execution_count": 2,
   "id": "35b6ff15",
   "metadata": {},
   "outputs": [
    {
     "data": {
      "text/plain": [
       "23"
      ]
     },
     "execution_count": 2,
     "metadata": {},
     "output_type": "execute_result"
    }
   ],
   "source": [
    "bacon + 1"
   ]
  },
  {
   "cell_type": "raw",
   "id": "7f12401c",
   "metadata": {},
   "source": [
    "Q7. What should the values of the following two terms be?\n",
    "'spam' + 'spamspam'\n",
    "'spam' * 3"
   ]
  },
  {
   "cell_type": "code",
   "execution_count": 3,
   "id": "ecae78f9",
   "metadata": {},
   "outputs": [
    {
     "data": {
      "text/plain": [
       "'spamspamspam'"
      ]
     },
     "execution_count": 3,
     "metadata": {},
     "output_type": "execute_result"
    }
   ],
   "source": [
    "'spam' + 'spamspam'"
   ]
  },
  {
   "cell_type": "code",
   "execution_count": 4,
   "id": "01bb5767",
   "metadata": {},
   "outputs": [
    {
     "data": {
      "text/plain": [
       "'spamspamspam'"
      ]
     },
     "execution_count": 4,
     "metadata": {},
     "output_type": "execute_result"
    }
   ],
   "source": [
    "'spam' * 3"
   ]
  },
  {
   "cell_type": "raw",
   "id": "e5a37102",
   "metadata": {},
   "source": [
    "Q8. Why is eggs a valid variable name while 100 is invalid?"
   ]
  },
  {
   "cell_type": "raw",
   "id": "1c60d739",
   "metadata": {},
   "source": [
    "Because you cannot define variable name as some integer value.\n",
    "However eggs can be defined as variable name because it does not contain inverted commas as well like in string.\n",
    "E.g below\n"
   ]
  },
  {
   "cell_type": "code",
   "execution_count": 5,
   "id": "4a9daa1e",
   "metadata": {},
   "outputs": [],
   "source": [
    "eggs = \"eggs\""
   ]
  },
  {
   "cell_type": "code",
   "execution_count": 6,
   "id": "fbce5dde",
   "metadata": {},
   "outputs": [
    {
     "name": "stdout",
     "output_type": "stream",
     "text": [
      "eggs\n"
     ]
    }
   ],
   "source": [
    "print(eggs)"
   ]
  },
  {
   "cell_type": "raw",
   "id": "261d5e2e",
   "metadata": {},
   "source": [
    "Q9. What three functions can be used to get the integer, floating-point number, or string\n",
    "version of a value?"
   ]
  },
  {
   "cell_type": "raw",
   "id": "0a843cf2",
   "metadata": {},
   "source": [
    "Ans - int() , str() , float()"
   ]
  },
  {
   "cell_type": "raw",
   "id": "65dad6a1",
   "metadata": {},
   "source": [
    "Q10. Why does this expression cause an error? How can you fix it?\n",
    "'I have eaten'+99+'burritos'"
   ]
  },
  {
   "cell_type": "code",
   "execution_count": 8,
   "id": "8230b4e3",
   "metadata": {},
   "outputs": [
    {
     "ename": "TypeError",
     "evalue": "can only concatenate str (not \"int\") to str",
     "output_type": "error",
     "traceback": [
      "\u001b[1;31m---------------------------------------------------------------------------\u001b[0m",
      "\u001b[1;31mTypeError\u001b[0m                                 Traceback (most recent call last)",
      "\u001b[1;32m<ipython-input-8-29be2496c73d>\u001b[0m in \u001b[0;36m<module>\u001b[1;34m\u001b[0m\n\u001b[1;32m----> 1\u001b[1;33m \u001b[0ms\u001b[0m \u001b[1;33m=\u001b[0m \u001b[1;34m'I have eaten'\u001b[0m\u001b[1;33m+\u001b[0m\u001b[1;36m99\u001b[0m\u001b[1;33m+\u001b[0m\u001b[1;34m'burritos'\u001b[0m\u001b[1;33m\u001b[0m\u001b[1;33m\u001b[0m\u001b[0m\n\u001b[0m",
      "\u001b[1;31mTypeError\u001b[0m: can only concatenate str (not \"int\") to str"
     ]
    }
   ],
   "source": [
    "s = 'I have eaten'+99+'burritos'"
   ]
  },
  {
   "cell_type": "raw",
   "id": "3a5861ef",
   "metadata": {},
   "source": [
    "From the above example its clearly visible from the TypeError: can only concatenate str (not \"int\") to str"
   ]
  },
  {
   "cell_type": "raw",
   "id": "9fd769cc",
   "metadata": {},
   "source": [
    "Fix is given below :- "
   ]
  },
  {
   "cell_type": "code",
   "execution_count": 11,
   "id": "17bb1fbd",
   "metadata": {},
   "outputs": [],
   "source": [
    "S =  \"I have eaten'+99+'burritos\""
   ]
  },
  {
   "cell_type": "code",
   "execution_count": 12,
   "id": "7407b35d",
   "metadata": {},
   "outputs": [
    {
     "data": {
      "text/plain": [
       "\"I have eaten'+99+'burritos\""
      ]
     },
     "execution_count": 12,
     "metadata": {},
     "output_type": "execute_result"
    }
   ],
   "source": [
    "S"
   ]
  },
  {
   "cell_type": "raw",
   "id": "c599c382",
   "metadata": {},
   "source": [
    "We can use double inverted commas if we are taking an integer value within the string."
   ]
  }
 ],
 "metadata": {
  "kernelspec": {
   "display_name": "Python 3",
   "language": "python",
   "name": "python3"
  },
  "language_info": {
   "codemirror_mode": {
    "name": "ipython",
    "version": 3
   },
   "file_extension": ".py",
   "mimetype": "text/x-python",
   "name": "python",
   "nbconvert_exporter": "python",
   "pygments_lexer": "ipython3",
   "version": "3.8.8"
  }
 },
 "nbformat": 4,
 "nbformat_minor": 5
}
